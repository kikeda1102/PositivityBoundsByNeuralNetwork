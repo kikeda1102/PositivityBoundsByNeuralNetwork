{
 "cells": [
  {
   "cell_type": "code",
   "execution_count": 1,
   "metadata": {},
   "outputs": [],
   "source": [
    "import numpy as np\n",
    "import math\n",
    "import matplotlib.pyplot as plt\n",
    "import tensorflow as tf\n",
    "from tensorflow.keras.models import Sequential\n",
    "from tensorflow.keras.layers import Dense\n",
    "# from tensorflow.keras.optimizers import Adam\n",
    "# M1/M2 Mac上での警告回避\n",
    "from tensorflow.compat.v1.keras.optimizers import Adam as LegacyAdam\n",
    "\n",
    "tf.config.run_functions_eagerly(True) # eager executionを有効に\n",
    "tf.data.experimental.enable_debug_mode() # なんか警告でたのでデバッグモードを有効に\n"
   ]
  },
  {
   "cell_type": "code",
   "execution_count": 2,
   "metadata": {},
   "outputs": [],
   "source": [
    "# params\n",
    "\n",
    "# energy\n",
    "x_max = 100 # xの最大値\n",
    "x_list = np.linspace(0, x_max, 10) # xの値域\n",
    "M2 = 1 # EFTのcutoff scale\n",
    "m2_list = M2 * (1 + x_list) \n",
    "# spin\n",
    "J_max = 40 # Jの最大値\n",
    "J_list = np.arange(0, J_max+1, 2) # Jの値域\n",
    "\n",
    "# spacetime dimension\n",
    "d = 10"
   ]
  },
  {
   "cell_type": "code",
   "execution_count": 3,
   "metadata": {},
   "outputs": [],
   "source": [
    "# input data\n",
    "from itertools import product\n",
    "input_data = np.array(list(product(m2_list, J_list)))"
   ]
  },
  {
   "cell_type": "code",
   "execution_count": 4,
   "metadata": {},
   "outputs": [],
   "source": [
    "# g_k関数, null constraint\n",
    "def g2(d, m2, J):\n",
    "    return 1 / (m2 ** 2)\n",
    "\n",
    "def mathcalJ2(d, J):\n",
    "    return J * (J + d - 3)\n",
    "\n",
    "def g3(d, m2, J):\n",
    "    return ( 3 - (4/(d-2)) * mathcalJ2(d, J) ) / ( m2 ** 3 )\n",
    "\n",
    "def n4(d, m2, J):\n",
    "    return ( mathcalJ2(d, J) * ( 2*mathcalJ2(d, J)- 5*d + 4 ) ) / ( m2 ** 4 )"
   ]
  },
  {
   "cell_type": "code",
   "execution_count": 5,
   "metadata": {},
   "outputs": [],
   "source": [
    "# heavy averageの定義\n",
    "\n",
    "# normalization constant\n",
    "def nJd(d, J):\n",
    "    return ( (4*np.pi)**(d/2) * (d+2*J-3) * (math.gamma(d+J-3)) ) / ( np.pi * math.gamma((d-2)/2)*math.gamma(J+1) )\n",
    "\n",
    "def integrand(rho, func, J, m2):\n",
    "    return (m2 ** (2-d/2)) * rho(J, m2=m2_list) * func(J, m2=m2_list)\n",
    "\n",
    "def summand(rho, func, J):\n",
    "    # 積分\n",
    "    return np.trapz( integrand(rho, func, J, m2=m2_list), m2_list)\n",
    "\n",
    "# heavy average\n",
    "def heavy_average(rho, func):\n",
    "    return  np.sum(nJd(d,J_list) * summand(rho, func, J_list))"
   ]
  },
  {
   "cell_type": "code",
   "execution_count": 6,
   "metadata": {},
   "outputs": [],
   "source": [
    "# loss function\n",
    "def custom_loss(y_true, y_pred):\n",
    "    a2 = 1\n",
    "    a3 = 1\n",
    "    w4 = 10\n",
    "    return a2 * heavy_average(rho=y_pred, func=g2) + a3 * heavy_average(rho=y_pred, func=g3) + w4 * heavy_average(rho=y_pred, func=n4)"
   ]
  },
  {
   "cell_type": "code",
   "execution_count": 7,
   "metadata": {},
   "outputs": [],
   "source": [
    "# model\n",
    "n_node = 4\n",
    "model = Sequential([\n",
    "    Dense(n_node, activation='relu', input_dim=2),\n",
    "    Dense(1, activation='relu')\n",
    "])\n",
    "\n",
    "model.compile(optimizer=LegacyAdam(), loss=custom_loss)"
   ]
  },
  {
   "cell_type": "code",
   "execution_count": 8,
   "metadata": {},
   "outputs": [
    {
     "ename": "InvalidArgumentError",
     "evalue": "{{function_node __wrapped__Fill_device_/job:localhost/replica:0/task:0/device:CPU:0}} dims must represent a vector, got shape [210,2] [Op:Fill] name: ",
     "output_type": "error",
     "traceback": [
      "\u001b[0;31m---------------------------------------------------------------------------\u001b[0m",
      "\u001b[0;31mInvalidArgumentError\u001b[0m                      Traceback (most recent call last)",
      "\u001b[1;32m/Users/kenya/study/study202310_PositivityBoundsByNN/practice/playground2.ipynb セル 8\u001b[0m line \u001b[0;36m4\n\u001b[1;32m      <a href='vscode-notebook-cell:/Users/kenya/study/study202310_PositivityBoundsByNN/practice/playground2.ipynb#X10sZmlsZQ%3D%3D?line=1'>2</a>\u001b[0m n_epochs \u001b[39m=\u001b[39m \u001b[39m300\u001b[39m\n\u001b[1;32m      <a href='vscode-notebook-cell:/Users/kenya/study/study202310_PositivityBoundsByNN/practice/playground2.ipynb#X10sZmlsZQ%3D%3D?line=2'>3</a>\u001b[0m \u001b[39mfor\u001b[39;00m i \u001b[39min\u001b[39;00m \u001b[39mrange\u001b[39m(\u001b[39m1\u001b[39m, n_epochs\u001b[39m+\u001b[39m\u001b[39m1\u001b[39m): \u001b[39m# 反復回数\u001b[39;00m\n\u001b[0;32m----> <a href='vscode-notebook-cell:/Users/kenya/study/study202310_PositivityBoundsByNN/practice/playground2.ipynb#X10sZmlsZQ%3D%3D?line=3'>4</a>\u001b[0m     model\u001b[39m.\u001b[39mfit(input_data, tf\u001b[39m.\u001b[39;49mzeros(input_data), epochs\u001b[39m=\u001b[39mn_epochs, verbose\u001b[39m=\u001b[39m\u001b[39m0\u001b[39m)\n",
      "File \u001b[0;32m~/study/study202310_PositivityBoundsByNN/venv/lib/python3.11/site-packages/tensorflow/python/util/traceback_utils.py:153\u001b[0m, in \u001b[0;36mfilter_traceback.<locals>.error_handler\u001b[0;34m(*args, **kwargs)\u001b[0m\n\u001b[1;32m    151\u001b[0m \u001b[39mexcept\u001b[39;00m \u001b[39mException\u001b[39;00m \u001b[39mas\u001b[39;00m e:\n\u001b[1;32m    152\u001b[0m   filtered_tb \u001b[39m=\u001b[39m _process_traceback_frames(e\u001b[39m.\u001b[39m__traceback__)\n\u001b[0;32m--> 153\u001b[0m   \u001b[39mraise\u001b[39;00m e\u001b[39m.\u001b[39mwith_traceback(filtered_tb) \u001b[39mfrom\u001b[39;00m \u001b[39mNone\u001b[39;00m\n\u001b[1;32m    154\u001b[0m \u001b[39mfinally\u001b[39;00m:\n\u001b[1;32m    155\u001b[0m   \u001b[39mdel\u001b[39;00m filtered_tb\n",
      "File \u001b[0;32m~/study/study202310_PositivityBoundsByNN/venv/lib/python3.11/site-packages/tensorflow/dtensor/python/api.py:64\u001b[0m, in \u001b[0;36mcall_with_layout\u001b[0;34m(fn, layout, *args, **kwargs)\u001b[0m\n\u001b[1;32m     62\u001b[0m   \u001b[39melse\u001b[39;00m:\n\u001b[1;32m     63\u001b[0m     \u001b[39mreturn\u001b[39;00m relayout(fn(\u001b[39m*\u001b[39margs, \u001b[39m*\u001b[39m\u001b[39m*\u001b[39mkwargs), layout)\n\u001b[0;32m---> 64\u001b[0m \u001b[39mreturn\u001b[39;00m fn(\u001b[39m*\u001b[39;49margs, \u001b[39m*\u001b[39;49m\u001b[39m*\u001b[39;49mkwargs)\n",
      "\u001b[0;31mInvalidArgumentError\u001b[0m: {{function_node __wrapped__Fill_device_/job:localhost/replica:0/task:0/device:CPU:0}} dims must represent a vector, got shape [210,2] [Op:Fill] name: "
     ]
    }
   ],
   "source": [
    "# 学習\n",
    "n_epochs = 300\n",
    "for i in range(1, n_epochs+1): # 反復回数\n",
    "    model.fit(input_data, tf.zeros(input_data), epochs=n_epochs, verbose=0)"
   ]
  },
  {
   "cell_type": "code",
   "execution_count": null,
   "metadata": {},
   "outputs": [],
   "source": []
  }
 ],
 "metadata": {
  "kernelspec": {
   "display_name": "venv",
   "language": "python",
   "name": "python3"
  },
  "language_info": {
   "codemirror_mode": {
    "name": "ipython",
    "version": 3
   },
   "file_extension": ".py",
   "mimetype": "text/x-python",
   "name": "python",
   "nbconvert_exporter": "python",
   "pygments_lexer": "ipython3",
   "version": "3.11.5"
  }
 },
 "nbformat": 4,
 "nbformat_minor": 2
}
