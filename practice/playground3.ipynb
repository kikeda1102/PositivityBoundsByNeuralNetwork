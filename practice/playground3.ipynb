{
 "cells": [
  {
   "cell_type": "code",
   "execution_count": 28,
   "metadata": {},
   "outputs": [],
   "source": [
    "import numpy as np\n",
    "import math\n",
    "import pandas as pd\n",
    "from itertools import product\n",
    "import matplotlib.pyplot as plt\n",
    "import tensorflow as tf\n",
    "from tensorflow.keras.models import Sequential\n",
    "from tensorflow.keras.layers import Dense\n",
    "# from tensorflow.keras.optimizers import Adam\n",
    "# M1/m2 Mac上での警告回避\n",
    "from tensorflow.compat.v1.keras.optimizers import Adam as LegacyAdam\n",
    "\n",
    "tf.config.run_functions_eagerly(True) # eager executionを有効に\n",
    "tf.data.experimental.enable_debug_mode() # なんか警告でたのでデバッグモードを有効に\n"
   ]
  },
  {
   "cell_type": "code",
   "execution_count": 29,
   "metadata": {},
   "outputs": [],
   "source": [
    "# params\n",
    "\n",
    "# energy\n",
    "x_max = 10 # xの最大値\n",
    "x_list = np.linspace(0, x_max, 11) # xの値域\n",
    "m2 = 1 # EFTのcutoff scale\n",
    "m2_list = m2 * (1 + x_list) \n",
    "# spin\n",
    "J_max = 40 # Jの最大値\n",
    "J_list = np.arange(0, J_max, 2) # Jの値域\n",
    "# spacetime dimension\n",
    "d = 10"
   ]
  },
  {
   "cell_type": "code",
   "execution_count": 30,
   "metadata": {},
   "outputs": [],
   "source": [
    "# g_k関数, null constraint\n",
    "def g2(m2, J):\n",
    "    return 1 / (m2 ** 2)\n",
    "\n",
    "def mathcalJ2(J):\n",
    "    return J * (J + d - 3)\n",
    "\n",
    "def g3(m2, J):\n",
    "    return ( 3 - (4/(d-2)) * mathcalJ2(J) ) / ( m2 ** 3 )\n",
    "\n",
    "def n4(m2, J):\n",
    "    return ( mathcalJ2(J) * ( 2*mathcalJ2(J)- 5*d + 4 ) ) / ( m2 ** 4 )"
   ]
  },
  {
   "cell_type": "code",
   "execution_count": 31,
   "metadata": {},
   "outputs": [],
   "source": [
    "# normalization constant\n",
    "def nJd(J):\n",
    "    return ( (4*np.pi)**(d/2) * (d+2*J-3) * (np.vectorize(math.gamma)(d+J-3)) ) / ( np.pi * np.vectorize(math.gamma)((d-2)/2)*np.vectorize(math.gamma)(J+1) )"
   ]
  },
  {
   "cell_type": "code",
   "execution_count": 32,
   "metadata": {},
   "outputs": [],
   "source": [
    "# DataFrameを作成\n",
    "df = pd.DataFrame(list(product(m2_list, J_list)), columns=['m2', 'J'])\n",
    "\n",
    "# 各関数を DataFrame に格納\n",
    "df['g2'] = g2(df['m2'], df['J'])\n",
    "df['g3'] = g3(df['m2'], df['J'])\n",
    "df['n4'] = n4(df['m2'], df['J'])\n",
    "# df['nJd'] = nJd(d, df['J'])"
   ]
  },
  {
   "cell_type": "code",
   "execution_count": 33,
   "metadata": {},
   "outputs": [
    {
     "data": {
      "text/html": [
       "<div>\n",
       "<style scoped>\n",
       "    .dataframe tbody tr th:only-of-type {\n",
       "        vertical-align: middle;\n",
       "    }\n",
       "\n",
       "    .dataframe tbody tr th {\n",
       "        vertical-align: top;\n",
       "    }\n",
       "\n",
       "    .dataframe thead th {\n",
       "        text-align: right;\n",
       "    }\n",
       "</style>\n",
       "<table border=\"1\" class=\"dataframe\">\n",
       "  <thead>\n",
       "    <tr style=\"text-align: right;\">\n",
       "      <th></th>\n",
       "      <th>m2</th>\n",
       "      <th>J</th>\n",
       "      <th>g2</th>\n",
       "      <th>g3</th>\n",
       "      <th>n4</th>\n",
       "    </tr>\n",
       "  </thead>\n",
       "  <tbody>\n",
       "    <tr>\n",
       "      <th>0</th>\n",
       "      <td>1.0</td>\n",
       "      <td>0</td>\n",
       "      <td>1.000000</td>\n",
       "      <td>3.000000</td>\n",
       "      <td>0.000000</td>\n",
       "    </tr>\n",
       "    <tr>\n",
       "      <th>1</th>\n",
       "      <td>1.0</td>\n",
       "      <td>2</td>\n",
       "      <td>1.000000</td>\n",
       "      <td>-6.000000</td>\n",
       "      <td>-180.000000</td>\n",
       "    </tr>\n",
       "    <tr>\n",
       "      <th>2</th>\n",
       "      <td>1.0</td>\n",
       "      <td>4</td>\n",
       "      <td>1.000000</td>\n",
       "      <td>-19.000000</td>\n",
       "      <td>1848.000000</td>\n",
       "    </tr>\n",
       "    <tr>\n",
       "      <th>3</th>\n",
       "      <td>1.0</td>\n",
       "      <td>6</td>\n",
       "      <td>1.000000</td>\n",
       "      <td>-36.000000</td>\n",
       "      <td>8580.000000</td>\n",
       "    </tr>\n",
       "    <tr>\n",
       "      <th>4</th>\n",
       "      <td>1.0</td>\n",
       "      <td>8</td>\n",
       "      <td>1.000000</td>\n",
       "      <td>-57.000000</td>\n",
       "      <td>23280.000000</td>\n",
       "    </tr>\n",
       "    <tr>\n",
       "      <th>...</th>\n",
       "      <td>...</td>\n",
       "      <td>...</td>\n",
       "      <td>...</td>\n",
       "      <td>...</td>\n",
       "      <td>...</td>\n",
       "    </tr>\n",
       "    <tr>\n",
       "      <th>215</th>\n",
       "      <td>11.0</td>\n",
       "      <td>30</td>\n",
       "      <td>0.008264</td>\n",
       "      <td>-0.414726</td>\n",
       "      <td>164.820709</td>\n",
       "    </tr>\n",
       "    <tr>\n",
       "      <th>216</th>\n",
       "      <td>11.0</td>\n",
       "      <td>32</td>\n",
       "      <td>0.008264</td>\n",
       "      <td>-0.466566</td>\n",
       "      <td>208.838194</td>\n",
       "    </tr>\n",
       "    <tr>\n",
       "      <th>217</th>\n",
       "      <td>11.0</td>\n",
       "      <td>34</td>\n",
       "      <td>0.008264</td>\n",
       "      <td>-0.521412</td>\n",
       "      <td>261.071512</td>\n",
       "    </tr>\n",
       "    <tr>\n",
       "      <th>218</th>\n",
       "      <td>11.0</td>\n",
       "      <td>36</td>\n",
       "      <td>0.008264</td>\n",
       "      <td>-0.579264</td>\n",
       "      <td>322.477973</td>\n",
       "    </tr>\n",
       "    <tr>\n",
       "      <th>219</th>\n",
       "      <td>11.0</td>\n",
       "      <td>38</td>\n",
       "      <td>0.008264</td>\n",
       "      <td>-0.640120</td>\n",
       "      <td>394.067345</td>\n",
       "    </tr>\n",
       "  </tbody>\n",
       "</table>\n",
       "<p>220 rows × 5 columns</p>\n",
       "</div>"
      ],
      "text/plain": [
       "       m2   J        g2         g3            n4\n",
       "0     1.0   0  1.000000   3.000000      0.000000\n",
       "1     1.0   2  1.000000  -6.000000   -180.000000\n",
       "2     1.0   4  1.000000 -19.000000   1848.000000\n",
       "3     1.0   6  1.000000 -36.000000   8580.000000\n",
       "4     1.0   8  1.000000 -57.000000  23280.000000\n",
       "..    ...  ..       ...        ...           ...\n",
       "215  11.0  30  0.008264  -0.414726    164.820709\n",
       "216  11.0  32  0.008264  -0.466566    208.838194\n",
       "217  11.0  34  0.008264  -0.521412    261.071512\n",
       "218  11.0  36  0.008264  -0.579264    322.477973\n",
       "219  11.0  38  0.008264  -0.640120    394.067345\n",
       "\n",
       "[220 rows x 5 columns]"
      ]
     },
     "execution_count": 33,
     "metadata": {},
     "output_type": "execute_result"
    }
   ],
   "source": [
    "df"
   ]
  },
  {
   "cell_type": "code",
   "execution_count": 34,
   "metadata": {},
   "outputs": [],
   "source": [
    "# for test \n",
    "df['rho'] = 1"
   ]
  },
  {
   "cell_type": "code",
   "execution_count": 35,
   "metadata": {},
   "outputs": [],
   "source": [
    "# 'J'列でグループ化して各Jの値ごとにDataFrameをまとめる\n",
    "grouped_dfs = [grouped_df for _, grouped_df in df.groupby('J')]"
   ]
  },
  {
   "cell_type": "code",
   "execution_count": 36,
   "metadata": {},
   "outputs": [],
   "source": [
    "# grouped_dfs[0]"
   ]
  },
  {
   "cell_type": "code",
   "execution_count": 37,
   "metadata": {},
   "outputs": [],
   "source": [
    "def integrand(func):\n",
    "    output_list = []\n",
    "    for grouped_df in grouped_dfs:\n",
    "        grouped_df['m2^((2-d)/2)'] = grouped_df['m2'] ** ((2-d)/2)\n",
    "        output_list.append( grouped_df['m2^((2-d)/2)'] * grouped_df['rho'] * grouped_df[func] )\n",
    "    return output_list\n",
    "\n",
    "def summand(func):\n",
    "    \n",
    "    # integrandを、m2について台形近似で数値積分\n",
    "    output_list = []\n",
    "    for grouped_df in grouped_dfs:\n",
    "        output_list.append( np.trapz( integrand(func=func), m2_list) )\n",
    "    return output_list"
   ]
  },
  {
   "cell_type": "code",
   "execution_count": 38,
   "metadata": {},
   "outputs": [],
   "source": [
    "# heavy average\n",
    "def heavy_average(func):\n",
    "    output_list = []\n",
    "    for i in range(len(J_list)):\n",
    "        output_list.append( nJd(J_list[i]) * summand(func=func)[i] )\n",
    "    return np.sum(output_list)"
   ]
  },
  {
   "cell_type": "code",
   "execution_count": 39,
   "metadata": {},
   "outputs": [],
   "source": [
    "# model\n",
    "n_node = 4\n",
    "model = Sequential([\n",
    "    Dense(n_node, activation='relu', input_dim=2),\n",
    "    Dense(1, activation='relu')\n",
    "])\n"
   ]
  },
  {
   "cell_type": "code",
   "execution_count": 40,
   "metadata": {},
   "outputs": [],
   "source": [
    "# input data\n",
    "X_input = df[['m2', 'J']].values\n",
    "y_input = tf.zeros(len(df))"
   ]
  },
  {
   "cell_type": "code",
   "execution_count": 41,
   "metadata": {},
   "outputs": [],
   "source": [
    "# loss function\n",
    "def custom_loss(y_true, y_pred):\n",
    "    a2 = 1\n",
    "    a3 = 1\n",
    "    w4 = 10\n",
    "    df['rho'] = model(X_input)\n",
    "    return a2 * heavy_average(func='g2') + a3 * heavy_average(func='g3') + w4 * tf.square( heavy_average(func='n4') )\n"
   ]
  },
  {
   "cell_type": "code",
   "execution_count": 42,
   "metadata": {},
   "outputs": [],
   "source": [
    "model.compile(optimizer=LegacyAdam(), loss=custom_loss)"
   ]
  },
  {
   "cell_type": "code",
   "execution_count": 43,
   "metadata": {},
   "outputs": [
    {
     "ename": "ValueError",
     "evalue": "No gradients provided for any variable: (['dense_2/kernel:0', 'dense_2/bias:0', 'dense_3/kernel:0', 'dense_3/bias:0'],). Provided `grads_and_vars` is ((None, <tf.Variable 'dense_2/kernel:0' shape=(2, 4) dtype=float32, numpy=\narray([[ 0.42598104, -0.35039425,  0.8770454 ,  0.61137104],\n       [-0.21979833, -0.60926485,  0.4290464 , -0.4527812 ]],\n      dtype=float32)>), (None, <tf.Variable 'dense_2/bias:0' shape=(4,) dtype=float32, numpy=array([0., 0., 0., 0.], dtype=float32)>), (None, <tf.Variable 'dense_3/kernel:0' shape=(4, 1) dtype=float32, numpy=\narray([[-0.88030344],\n       [-0.2729767 ],\n       [ 0.8087487 ],\n       [ 0.776279  ]], dtype=float32)>), (None, <tf.Variable 'dense_3/bias:0' shape=(1,) dtype=float32, numpy=array([0.], dtype=float32)>)).",
     "output_type": "error",
     "traceback": [
      "\u001b[0;31m---------------------------------------------------------------------------\u001b[0m",
      "\u001b[0;31mValueError\u001b[0m                                Traceback (most recent call last)",
      "\u001b[1;32m/Users/kenya/study/study202310_PositivityBoundsByNN/lib/playground3.ipynb セル 16\u001b[0m line \u001b[0;36m4\n\u001b[1;32m      <a href='vscode-notebook-cell:/Users/kenya/study/study202310_PositivityBoundsByNN/lib/playground3.ipynb#X20sZmlsZQ%3D%3D?line=1'>2</a>\u001b[0m n_epochs \u001b[39m=\u001b[39m \u001b[39m300\u001b[39m\n\u001b[1;32m      <a href='vscode-notebook-cell:/Users/kenya/study/study202310_PositivityBoundsByNN/lib/playground3.ipynb#X20sZmlsZQ%3D%3D?line=2'>3</a>\u001b[0m \u001b[39mfor\u001b[39;00m i \u001b[39min\u001b[39;00m \u001b[39mrange\u001b[39m(\u001b[39m1\u001b[39m, n_epochs\u001b[39m+\u001b[39m\u001b[39m1\u001b[39m): \u001b[39m# 反復回数\u001b[39;00m\n\u001b[0;32m----> <a href='vscode-notebook-cell:/Users/kenya/study/study202310_PositivityBoundsByNN/lib/playground3.ipynb#X20sZmlsZQ%3D%3D?line=3'>4</a>\u001b[0m     model\u001b[39m.\u001b[39;49mfit(X_input, y_input, epochs\u001b[39m=\u001b[39;49mn_epochs, verbose\u001b[39m=\u001b[39;49m\u001b[39m0\u001b[39;49m)\n",
      "File \u001b[0;32m~/study/study202310_PositivityBoundsByNN/venv/lib/python3.11/site-packages/keras/src/utils/traceback_utils.py:70\u001b[0m, in \u001b[0;36mfilter_traceback.<locals>.error_handler\u001b[0;34m(*args, **kwargs)\u001b[0m\n\u001b[1;32m     67\u001b[0m     filtered_tb \u001b[39m=\u001b[39m _process_traceback_frames(e\u001b[39m.\u001b[39m__traceback__)\n\u001b[1;32m     68\u001b[0m     \u001b[39m# To get the full stack trace, call:\u001b[39;00m\n\u001b[1;32m     69\u001b[0m     \u001b[39m# `tf.debugging.disable_traceback_filtering()`\u001b[39;00m\n\u001b[0;32m---> 70\u001b[0m     \u001b[39mraise\u001b[39;00m e\u001b[39m.\u001b[39mwith_traceback(filtered_tb) \u001b[39mfrom\u001b[39;00m \u001b[39mNone\u001b[39;00m\n\u001b[1;32m     71\u001b[0m \u001b[39mfinally\u001b[39;00m:\n\u001b[1;32m     72\u001b[0m     \u001b[39mdel\u001b[39;00m filtered_tb\n",
      "File \u001b[0;32m~/study/study202310_PositivityBoundsByNN/venv/lib/python3.11/site-packages/keras/src/optimizers/utils.py:77\u001b[0m, in \u001b[0;36mfilter_empty_gradients\u001b[0;34m(grads_and_vars)\u001b[0m\n\u001b[1;32m     75\u001b[0m \u001b[39mif\u001b[39;00m \u001b[39mnot\u001b[39;00m filtered:\n\u001b[1;32m     76\u001b[0m     variable \u001b[39m=\u001b[39m ([v\u001b[39m.\u001b[39mname \u001b[39mfor\u001b[39;00m _, v \u001b[39min\u001b[39;00m grads_and_vars],)\n\u001b[0;32m---> 77\u001b[0m     \u001b[39mraise\u001b[39;00m \u001b[39mValueError\u001b[39;00m(\n\u001b[1;32m     78\u001b[0m         \u001b[39mf\u001b[39m\u001b[39m\"\u001b[39m\u001b[39mNo gradients provided for any variable: \u001b[39m\u001b[39m{\u001b[39;00mvariable\u001b[39m}\u001b[39;00m\u001b[39m. \u001b[39m\u001b[39m\"\u001b[39m\n\u001b[1;32m     79\u001b[0m         \u001b[39mf\u001b[39m\u001b[39m\"\u001b[39m\u001b[39mProvided `grads_and_vars` is \u001b[39m\u001b[39m{\u001b[39;00mgrads_and_vars\u001b[39m}\u001b[39;00m\u001b[39m.\u001b[39m\u001b[39m\"\u001b[39m\n\u001b[1;32m     80\u001b[0m     )\n\u001b[1;32m     81\u001b[0m \u001b[39mif\u001b[39;00m vars_with_empty_grads:\n\u001b[1;32m     82\u001b[0m     logging\u001b[39m.\u001b[39mwarning(\n\u001b[1;32m     83\u001b[0m         \u001b[39m\"\u001b[39m\u001b[39mGradients do not exist for variables \u001b[39m\u001b[39m%s\u001b[39;00m\u001b[39m when minimizing the \u001b[39m\u001b[39m\"\u001b[39m\n\u001b[1;32m     84\u001b[0m         \u001b[39m\"\u001b[39m\u001b[39mloss. If you\u001b[39m\u001b[39m'\u001b[39m\u001b[39mre using `model.compile()`, did you forget to \u001b[39m\u001b[39m\"\u001b[39m\n\u001b[1;32m     85\u001b[0m         \u001b[39m\"\u001b[39m\u001b[39mprovide a `loss` argument?\u001b[39m\u001b[39m\"\u001b[39m,\n\u001b[1;32m     86\u001b[0m         ([v\u001b[39m.\u001b[39mname \u001b[39mfor\u001b[39;00m v \u001b[39min\u001b[39;00m vars_with_empty_grads]),\n\u001b[1;32m     87\u001b[0m     )\n",
      "\u001b[0;31mValueError\u001b[0m: No gradients provided for any variable: (['dense_2/kernel:0', 'dense_2/bias:0', 'dense_3/kernel:0', 'dense_3/bias:0'],). Provided `grads_and_vars` is ((None, <tf.Variable 'dense_2/kernel:0' shape=(2, 4) dtype=float32, numpy=\narray([[ 0.42598104, -0.35039425,  0.8770454 ,  0.61137104],\n       [-0.21979833, -0.60926485,  0.4290464 , -0.4527812 ]],\n      dtype=float32)>), (None, <tf.Variable 'dense_2/bias:0' shape=(4,) dtype=float32, numpy=array([0., 0., 0., 0.], dtype=float32)>), (None, <tf.Variable 'dense_3/kernel:0' shape=(4, 1) dtype=float32, numpy=\narray([[-0.88030344],\n       [-0.2729767 ],\n       [ 0.8087487 ],\n       [ 0.776279  ]], dtype=float32)>), (None, <tf.Variable 'dense_3/bias:0' shape=(1,) dtype=float32, numpy=array([0.], dtype=float32)>))."
     ]
    }
   ],
   "source": [
    "# 学習\n",
    "n_epochs = 300\n",
    "for i in range(1, n_epochs+1): # 反復回数\n",
    "    model.fit(X_input, y_input, epochs=n_epochs, verbose=0)"
   ]
  },
  {
   "cell_type": "code",
   "execution_count": null,
   "metadata": {},
   "outputs": [],
   "source": []
  }
 ],
 "metadata": {
  "kernelspec": {
   "display_name": "venv",
   "language": "python",
   "name": "python3"
  },
  "language_info": {
   "codemirror_mode": {
    "name": "ipython",
    "version": 3
   },
   "file_extension": ".py",
   "mimetype": "text/x-python",
   "name": "python",
   "nbconvert_exporter": "python",
   "pygments_lexer": "ipython3",
   "version": "3.11.5"
  }
 },
 "nbformat": 4,
 "nbformat_minor": 2
}
