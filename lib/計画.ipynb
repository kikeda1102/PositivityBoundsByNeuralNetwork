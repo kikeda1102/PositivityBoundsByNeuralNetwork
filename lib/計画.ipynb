{
 "cells": [
  {
   "cell_type": "markdown",
   "metadata": {},
   "source": [
    "# PositivityBoundsByNN\n",
    "\n",
    "## 計画\n",
    "\n",
    "1. ExtremalEFTの(g3,g4) plotをNNに描かせる: \n",
    "教師なし \n",
    "null constraintは損失関数に加えることで考慮\n",
    "\n",
    "2. gravitational PBの話をNNで考えてみる: \n",
    "\n",
    "\n",
    "3. 本番: High Spin Supressionを考えてみる: \n",
    "constraintを扱うことができるはず\n",
    "\n",
    "\n",
    "## 期待されるメリット\n",
    "\n",
    "SDPBとの比較\n",
    "\n",
    "- メッシュの細かさを自動的に最適化してくれる\n",
    "\n",
    "- constraintの扱いが簡単 損失関数に加えるだけ"
   ]
  },
  {
   "cell_type": "markdown",
   "metadata": {},
   "source": [
    "## 1. ExtremalEFTの(g3,g4) plotをNNに描かせる\n",
    "\n",
    "https://arxiv.org/abs/2011.02957\n",
    "\n",
    "\n",
    "$$\n",
    "    g_3 = \\left< \\frac{ 3 - \\frac{4}{d-2} J^2 }{ m^6 } \\right>, \\qquad\n",
    "    g_4 = \\left< \\frac{ 1 }{ 2m^8 } \\right>, \\qquad\n",
    "    g_4 = \\left< \\frac{ 1 + \\frac{4-5d}{2d(d-2)} J^2 + \\frac{1}{d(d-2)} J^4 }{ 2m^8 } \\right>\n",
    "$$\n",
    "\n",
    "$$\n",
    "    0 = \\left< n_4(m^2,J)\\right>, \\qquad\n",
    "    n_4(m^2,J) = \\frac{ J^2( 2J^2 - (5d-4)) }{ m^8 }\n",
    "$$"
   ]
  },
  {
   "cell_type": "code",
   "execution_count": 1,
   "metadata": {},
   "outputs": [],
   "source": [
    "import numpy as np\n",
    "import matplotlib.pyplot as plt\n",
    "import tensorflow as tf"
   ]
  },
  {
   "cell_type": "markdown",
   "metadata": {},
   "source": [
    "## 最適化問題\n",
    "## 半正定値計画法\n",
    "$$\n",
    "    \\rm{maximize}: A,\n",
    "$$\n",
    "$$\n",
    "    v = (-A, 1, c_4, c_5, ...)\n",
    "$$\n",
    "$$\n",
    "    w = (g_2, g_3, n_4, n_5, ...)\n",
    "$$\n",
    "$$\n",
    "    \\rm{subject \\  to}: v \\cdot w \\sim -A\\cdot g_2 + g_3\n",
    "$$"
   ]
  },
  {
   "cell_type": "markdown",
   "metadata": {},
   "source": [
    "PINNでこれを解きたい。\n",
    "\n",
    "波動関数$\\psi (x)$に対応するのが\n",
    "1. $パラメタA, c_4, c_5$説\n",
    "2. $g_k (m^2, J)$関数説\n",
    "\n",
    "2の方が筋が良さそう"
   ]
  },
  {
   "cell_type": "markdown",
   "metadata": {},
   "source": [
    "$x$と$m^2, J$が対応するので、\n",
    "heavy averageで積分されるパラメタ$m^2, J$について、\n",
    "細かい区間に区分し、ネットワークの入力とする"
   ]
  },
  {
   "cell_type": "markdown",
   "metadata": {},
   "source": [
    "出力を$g_k (m^2, J)$関数として解釈する"
   ]
  },
  {
   "cell_type": "markdown",
   "metadata": {},
   "source": [
    "損失関数はAとnull constraintを合わせたもの\n",
    "$$\n",
    "    \\rm{ ( Loss \\ Func. ) } = A + ( \\left< n_4(m^2, J)  \\right> ) ^2 + \\cdots\n",
    "$$"
   ]
  },
  {
   "cell_type": "markdown",
   "metadata": {},
   "source": [
    "* いったん、橋本さん論文の結果をコード書いて再現してみたい"
   ]
  },
  {
   "cell_type": "markdown",
   "metadata": {},
   "source": []
  }
 ],
 "metadata": {
  "kernelspec": {
   "display_name": "venv",
   "language": "python",
   "name": "python3"
  },
  "language_info": {
   "codemirror_mode": {
    "name": "ipython",
    "version": 3
   },
   "file_extension": ".py",
   "mimetype": "text/x-python",
   "name": "python",
   "nbconvert_exporter": "python",
   "pygments_lexer": "ipython3",
   "version": "3.11.5"
  },
  "orig_nbformat": 4
 },
 "nbformat": 4,
 "nbformat_minor": 2
}
